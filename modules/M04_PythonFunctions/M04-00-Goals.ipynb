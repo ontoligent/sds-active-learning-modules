{
 "cells": [
  {
   "cell_type": "markdown",
   "id": "d50307ca-d216-4576-a4dc-86b7d797e3a0",
   "metadata": {},
   "source": [
    "# Goals and Outcomes\n",
    "\n",
    "## Learning Goals\n",
    "\n",
    "After completing this module, the student should:\n",
    "\n",
    "- Understand what built-in functions are.\n",
    "- Understand what user-defined functions are and how to create them.\n",
    "- Undertand the concept of variable scope.\n",
    "- Know what lambda functions are how to use them.\n",
    "- Understand some basic principles of function design.\n",
    "- Know what function recursion is.\n",
    "\n",
    "## Learning Outcomes\n",
    "\n",
    "In terms of specific knowledge, skills, and abilities, after completing this module students should be able to:\n",
    "\n",
    "- Be able to use Python's native and imported functions.\n",
    "- Be able to write their own functions.\n",
    "- Understand the concept of variable scope and some of the problems that may arise in not paying attention to it.\n",
    "- Be able to write lambda functions and understand their use cases.\n",
    "- Grasp basic principles of function design.\n",
    "- Implement simple recursion functions.\n"
   ]
  },
  {
   "cell_type": "code",
   "execution_count": null,
   "id": "7c720b19-a988-426f-9aa7-c5053ca2de21",
   "metadata": {},
   "outputs": [],
   "source": []
  }
 ],
 "metadata": {
  "kernelspec": {
   "display_name": "Python 3 (ipykernel)",
   "language": "python",
   "name": "python3"
  },
  "language_info": {
   "codemirror_mode": {
    "name": "ipython",
    "version": 3
   },
   "file_extension": ".py",
   "mimetype": "text/x-python",
   "name": "python",
   "nbconvert_exporter": "python",
   "pygments_lexer": "ipython3",
   "version": "3.11.3"
  }
 },
 "nbformat": 4,
 "nbformat_minor": 5
}
