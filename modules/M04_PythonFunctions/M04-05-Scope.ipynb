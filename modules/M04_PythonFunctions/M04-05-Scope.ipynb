{
 "cells": [
  {
   "cell_type": "markdown",
   "metadata": {},
   "source": [
    "# NB: Variable Scope\n",
    "\n",
    "## Overview\n",
    "\n",
    "A variable's **scope** is the part of a program where it is **visible**.\n",
    "\n",
    "* Scope refers to the **coding region**, such as a function block, from which a particular Python object is accessible.\n",
    "* Visible means available or **usable** to the code block in question.\n",
    "* If a variable is **in scope** to a function, it is visible the function.\n",
    "* If it is **out of scope** to a function, it is not visible the function.\n",
    "\n",
    "When a variable is defined **inside** of a function, it is not visible outside of the function.\n",
    "* We say such variables are **local** to the function.\n",
    "* They are also removed from memory when the function completes.\n",
    "\n",
    "When a variable is defined **outside** of any function in a script, it is visible to any function inside of the script\n",
    "* We say such variables are **global** to the functions in the file or context in which the variables are defined.\n",
    "* A function can replace a global variable with local variable by defining that variable. In this case, a variable can have global and local versions in the same program.\n",
    "\n",
    "Sometimes variable scope is called **lexical** scope.\n",
    "\n",
    "It is helpful to have a good understanding of scope to avoid surprises and confusion.  \n",
    "\n",
    "The concept is easier than it may look in the abstract. Let's look at some examples where we vary the use of local and global definitions of `x`.\n",
    "\n",
    "## Lutz on Scoping\n",
    "\n",
    "Here's an excerpt from [Lutz, Chapter 17](https://learning.oreilly.com/library/view/learning-python-5th/9781449355722/ch17.html#scope_details). Please read the whole thing.\n",
    "\n",
    "**The enclosing module is a global scope.** Each module is a global scope—that is, a namespace in which variables created (assigned) at the top level of the module file live. Global variables become attributes of a module object to the outside world after imports but can also be used as simple variables within the module file itself.\n",
    "\n",
    "**The global scope spans a single file only.** Don’t be fooled by the word “global” here—names at the top level of a file are global to code within that single file only. There is really no notion of a single, all-encompassing global file-based scope in Python. Instead, names are partitioned into modules, and you must always import a module explicitly if you want to be able to use the names its file defines. **When you hear “global” in Python, think “module.”**\n",
    "\n",
    "**Assigned names are local unless declared global or nonlocal.** By default, all the names assigned inside a function definition are put in the local scope (the namespace associated with the function call). If you need to assign a name that lives at the top level of the module enclosing the function, you can do so by declaring it in a global statement inside the function. If you need to assign a name that lives in an enclosing def, as of Python 3.X you can do so by declaring it in a nonlocal statement.\n",
    "\n",
    "**All other names are enclosing function locals, globals, or built-ins.** Names not assigned a value in the function definition are assumed to be enclosing scope locals, defined in a physically surrounding def statement; globals that live in the enclosing module’s namespace; or built-ins in the predefined built-ins module Python provides.\n",
    "\n",
    "**Each call to a function creates a new local scope.** Every time you call a function, you create a new local scope—that is, a namespace in which the names created inside that function will usually live. You can think of each def statement (and lambda expression) as defining a new local scope, but the local scope actually corresponds to a function call. Because Python allows functions to call themselves to loop—an advanced technique known as recursion and noted briefly in Chapter 9 when we explored comparisons—each active call receives its own copy of the function’s local variables. Recursion is useful in functions we write as well, to process structures whose shapes can’t be predicted ahead of time; we’ll explore it more fully in Chapter 19.\n",
    "\n",
    "And here is a nice visualization of scopes:\n",
    "\n",
    "![Car with tinted glass](assets/lp5e_1701.png)\n",
    "\n",
    "Please read [Lutz, Chapter 17](https://learning.oreilly.com/library/view/learning-python-5th/9781449355722/ch17.html#scope_details) for a good overview of scoping.\n",
    "\n",
    "## The Tinted Glass Metaphor\n",
    "\n",
    "<img src=\"assets/tinted-glass.jpg\" \n",
    "     width=350\n",
    "     style=\"box-shadow: 10px 5px 5px gray;\"\n",
    "     >\n",
    "\n",
    "So, code regions within a program are like vehicles with tinted glass:\n",
    "* Passengers can see outside, but outsiders can't see inside.\n",
    "* Passengers in a vehicle can let outsiders look in by lowering the window.\n",
    "\n",
    "Or something. Lile models, all metaphors are wrong, but some are useful. :-)\n",
    "\n",
    "## Example 1\n",
    "\n",
    "**`x` defined outside a function but used inside of it**\n",
    "\n",
    "In the code below:\n",
    "* `x` is **global** and seen from inside the function.  \n",
    "* `a` is **local** to the function. trying to print outside function throws error.\n",
    "\n",
    "Note that arguments are essentially locally defined variables."
   ]
  },
  {
   "cell_type": "code",
   "execution_count": null,
   "metadata": {},
   "outputs": [],
   "source": [
    "x = 10\n",
    "\n",
    "def scope_func1(a):\n",
    "    out = x + a\n",
    "    return out"
   ]
  },
  {
   "cell_type": "markdown",
   "metadata": {},
   "source": [
    "The following works because `x` is global and functions can access globals so long as they don't reassign the variable name."
   ]
  },
  {
   "cell_type": "code",
   "execution_count": null,
   "metadata": {},
   "outputs": [],
   "source": [
    "y = scope_func1(6)\n",
    "print(y)"
   ]
  },
  {
   "cell_type": "markdown",
   "metadata": {},
   "source": [
    "The following fails because `a` local and not visible outside the function."
   ]
  },
  {
   "cell_type": "code",
   "execution_count": null,
   "metadata": {},
   "outputs": [],
   "source": [
    "print(a)"
   ]
  },
  {
   "cell_type": "markdown",
   "metadata": {},
   "source": [
    "## Example 2\n",
    "\n",
    "**`x` defined both outside and inside function, and used inside the function**\n",
    "\n",
    "This function reassigns `x`, so it becomes local. \n",
    "\n",
    "Note that a variable becomes local once it is used in an assignment statement within a function, or if it the name of an argument."
   ]
  },
  {
   "cell_type": "code",
   "execution_count": null,
   "metadata": {},
   "outputs": [],
   "source": [
    "x = 10 # Global\n",
    "\n",
    "def scope_func2(a):\n",
    "\n",
    "    x = 20 # Local\n",
    "    print('x from inside:', x)\n",
    "    \n",
    "    out = x + a\n",
    "    \n",
    "    return out"
   ]
  },
  {
   "cell_type": "code",
   "execution_count": null,
   "metadata": {},
   "outputs": [],
   "source": [
    "y = scope_func2(6)\n",
    "print(y)\n",
    "print('x from outside:', x)"
   ]
  },
  {
   "cell_type": "markdown",
   "metadata": {},
   "source": [
    "## Example 2a\n",
    "\n",
    "Here we define `x` as an argument.\n",
    "\n",
    "This has the same effect as defining it in the body of the function."
   ]
  },
  {
   "cell_type": "code",
   "execution_count": null,
   "metadata": {},
   "outputs": [],
   "source": [
    "x = 10 # Global\n",
    "\n",
    "def scope_func2a(a, x=20): # Argment variables are local\n",
    "\n",
    "    print('x from inside:', x)\n",
    "    \n",
    "    out = x + a\n",
    "    \n",
    "    return out"
   ]
  },
  {
   "cell_type": "code",
   "execution_count": null,
   "metadata": {},
   "outputs": [],
   "source": [
    "print('x from outside before function:', x)\n",
    "y = scope_func2a(6)\n",
    "print(y)\n",
    "print('x from outside before function:', x)"
   ]
  },
  {
   "cell_type": "markdown",
   "metadata": {},
   "source": [
    "As an argument, though, it can be assigned the value of the global. \n",
    "\n",
    "Nevertheless, only the value is being passed between the global and local versions of `x`."
   ]
  },
  {
   "cell_type": "code",
   "execution_count": null,
   "metadata": {},
   "outputs": [],
   "source": [
    "x = 10 # Global\n",
    "\n",
    "def scope_func2a(a, x=20):\n",
    "\n",
    "    print('x from inside before incremenet:', x)\n",
    "    x += 10\n",
    "    print('x from inside after incremenet:', x)\n",
    "    \n",
    "    out = x + a\n",
    "    \n",
    "    return out"
   ]
  },
  {
   "cell_type": "code",
   "execution_count": null,
   "metadata": {},
   "outputs": [],
   "source": [
    "print('x from outside before function:', x)\n",
    "y = scope_func2a(6, x)\n",
    "print(y)\n",
    "print('x from outside after function:', x)"
   ]
  },
  {
   "cell_type": "markdown",
   "metadata": {},
   "source": [
    "## Example 3\n",
    "\n",
    "**`x` defined both outside and inside function, and used inside the function in both global and local modes**\n",
    "\n",
    "This one is interesting. It fails, but it's not clear why at first.  "
   ]
  },
  {
   "cell_type": "code",
   "execution_count": null,
   "metadata": {},
   "outputs": [],
   "source": [
    "x = 10\n",
    "\n",
    "def scope_func3(a):\n",
    "    print('x from fcn, before local definition:', x) # Global use of x\n",
    "    x = 20 # Local use of x\n",
    "    print('x from fcn, after local definition:', x)\n",
    "    out = x + a\n",
    "    return out"
   ]
  },
  {
   "cell_type": "code",
   "execution_count": null,
   "metadata": {},
   "outputs": [],
   "source": [
    "print('x from outside before local definition:', x)\n",
    "scope_func3(6)\n",
    "print('x from outside after local definition:', x)"
   ]
  },
  {
   "cell_type": "markdown",
   "metadata": {},
   "source": [
    "The error can be fixed by referencing x as `global` inside function. "
   ]
  },
  {
   "cell_type": "code",
   "execution_count": null,
   "metadata": {},
   "outputs": [],
   "source": [
    "x = 10\n",
    "\n",
    "def scope_func4(a):\n",
    "    global x\n",
    "    \n",
    "    print('x from inside, before local definition:', x)\n",
    "    x = 20\n",
    "    print('x from inside, after local definition:', x)\n",
    "    \n",
    "    out = x + a\n",
    "    return out"
   ]
  },
  {
   "cell_type": "code",
   "execution_count": null,
   "metadata": {},
   "outputs": [],
   "source": [
    "print('x from outside, before local definition:', x)\n",
    "y = scope_func4(6)\n",
    "print(y)\n",
    "print('x from outside, after local definition:', x)"
   ]
  },
  {
   "cell_type": "markdown",
   "metadata": {},
   "source": [
    "Note that the two instances of the variable `z` coexist in the same script because of the rules of scoping.\n",
    "\n",
    "## Local / global conflicts\n",
    "\n",
    "What will calling `guess()` do?\n",
    "\n",
    "Hint: \"If you assign a name in any way within a def, it will become a local to that function by default.\" (Lutz)"
   ]
  },
  {
   "cell_type": "code",
   "execution_count": null,
   "metadata": {},
   "outputs": [],
   "source": [
    "x = 10\n",
    "\n",
    "def guess():\n",
    "    x += 10 \n",
    "    print(x)"
   ]
  },
  {
   "cell_type": "code",
   "execution_count": null,
   "metadata": {},
   "outputs": [],
   "source": [
    "guess()"
   ]
  },
  {
   "cell_type": "markdown",
   "metadata": {},
   "source": [
    "Consider the following expression, which is the same as the unary operation inside of the function `guess()`."
   ]
  },
  {
   "cell_type": "code",
   "execution_count": null,
   "metadata": {},
   "outputs": [],
   "source": [
    "x = x + 10"
   ]
  },
  {
   "cell_type": "markdown",
   "metadata": {},
   "source": [
    "The `x` on the left is `local`, since it is being *defined* inside the function.\n",
    "\n",
    "However, the `x` on the right is assumed to already be defined, and so is `global`.\n",
    "\n",
    "In effect, Python is presented with a contradiction and so throws an error.\n",
    "\n",
    "We will see that R does not do this; it just goes with the `global`.\n",
    "\n",
    "## Nonlocal\n",
    "\n",
    "If a variable is assigned in an enclosing `def`, it is `nonlocal` to nested functions.\n",
    "\n",
    "The `nonlocal` keyword is similar to `global`, except that it refers to the scope of the enclosing function, not the script that contains the funtions."
   ]
  },
  {
   "cell_type": "code",
   "execution_count": null,
   "metadata": {},
   "outputs": [],
   "source": [
    "x = 10 # Global\n",
    "def func1(): # Enclosing function\n",
    "    x = 20 # Local to function; \"Nonlocal\" to nested function\n",
    "    def func1a():\n",
    "        x = 30 # Local to nested function\n",
    "        print(x)\n",
    "    func1a()\n",
    "    print(x)"
   ]
  },
  {
   "cell_type": "code",
   "execution_count": null,
   "metadata": {},
   "outputs": [],
   "source": [
    "print(x)\n",
    "func1()\n",
    "print(x)"
   ]
  },
  {
   "cell_type": "code",
   "execution_count": null,
   "metadata": {},
   "outputs": [],
   "source": [
    "x = 10\n",
    "def func2():\n",
    "    x = 20\n",
    "    def func2a():\n",
    "        nonlocal x\n",
    "        x = 30\n",
    "        print(x)\n",
    "    func2a()\n",
    "    print(x)"
   ]
  },
  {
   "cell_type": "code",
   "execution_count": null,
   "metadata": {},
   "outputs": [],
   "source": [
    "print(x) # 1\n",
    "func2()\n",
    "print(x) # 4"
   ]
  },
  {
   "cell_type": "code",
   "execution_count": null,
   "metadata": {},
   "outputs": [],
   "source": [
    "x = 10\n",
    "def func3():\n",
    "    x = 20\n",
    "    def func3a():\n",
    "        global x\n",
    "        x = 30\n",
    "        print(x)\n",
    "    func3a()\n",
    "    print(x)"
   ]
  },
  {
   "cell_type": "code",
   "execution_count": null,
   "metadata": {},
   "outputs": [],
   "source": [
    "print(x)\n",
    "func3()\n",
    "print(x)"
   ]
  },
  {
   "cell_type": "markdown",
   "metadata": {},
   "source": [
    "## Namespaces\n",
    "\n",
    "Definitions of scope make reference to **namespaces**. Scope and namespaces are closely intertwined concepts. Sometimes it is assumed that the reader knows what this means. \n",
    "\n",
    "If you've never heard of namespaces, or are unsure of what they are, here's a brief explanation.\n",
    "\n",
    "A namespace is a system that allows for **a unique name** to associated with each and **every object** in a Python program.\n",
    "* Remember that **an object can be anything** in Python, not just variable, e.g. a function or a class. \n",
    "* Python maintains namespaces internally as **dictionaries**. \n",
    "\n",
    "A good **analogy** to a namespace system is the **file system** on a computer. You can have files of the same name so long as they are in different folders. The complete name of the file is actually the filename and the names of its parent folders, i.e. the path to the file in the file system.\n",
    "\n",
    "Another anology is in **human names** -- personal names and family names, i.e. first and last names in European countries. These in turn might be contained by larger social groupings.\n",
    "\n",
    "Finally, another analogy is **home addresses** -- house numbers and street names can be reused based on their \"path\" in the tree of geographic entities that include cities, states, nations, etc.\n",
    "\n",
    "Similarly, Python understands what exact method or variable one is trying to point to in the code, depending upon the namespace. \n",
    "\n",
    "Note that in each of these cases, **the data structure is a directed acyclic graph (DAG)**, which is universal structure for organizing unique names. \n",
    " \n",
    " \n",
    "\n",
    "## Some Visualizations\n",
    " \n",
    "<img src=\"assets/types_namespace-1.png\" width=500>\n",
    " \n",
    "\n",
    "The same object name can be present in multiple namespaces as isolation between the same name is maintained by their namespace.\n",
    "\n",
    "<img src=\"assets/namespaces.png\" width=500>\n",
    "\n",
    "Source: [\"Namespaces and Scope in Python\" (GFG)](https://www.geeksforgeeks.org/namespaces-and-scope-in-python/).\n"
   ]
  },
  {
   "cell_type": "markdown",
   "metadata": {},
   "source": []
  }
 ],
 "metadata": {
  "kernelspec": {
   "display_name": "eta",
   "language": "python",
   "name": "eta"
  },
  "language_info": {
   "codemirror_mode": {
    "name": "ipython",
    "version": 3
   },
   "file_extension": ".py",
   "mimetype": "text/x-python",
   "name": "python",
   "nbconvert_exporter": "python",
   "pygments_lexer": "ipython3",
   "version": "3.11.3"
  }
 },
 "nbformat": 4,
 "nbformat_minor": 4
}
