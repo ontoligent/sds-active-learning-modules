{
 "cells": [
  {
   "cell_type": "markdown",
   "id": "93ae726f-9f9b-4747-9fb9-0b6f3a7a5edd",
   "metadata": {
    "tags": []
   },
   "source": [
    "# Readings \n",
    "\n",
    "- [Lutz 2019, Part IV, Chapter 16: Function Basics](https://learning.oreilly.com/library/view/learning-python-5th/9781449355722/ch16.html)\n",
    "- [Lutz 2019, Part IV, Chapter 17: Scopes](https://learning.oreilly.com/library/view/learning-python-5th/9781449355722/ch17.html) Non-local is for advanced users\n",
    "- [Lutz 2019, Part IV, Chapter 18. Arguments](https://learning.oreilly.com/library/view/learning-python-5th/9781449355722/ch18.html)\n",
    "- [Lutz 2019, Part IV, Chapter 19: Advanced Function Topics](https://learning.oreilly.com/library/view/learning-python-5th/9781449355722/ch19.html)\n",
    "\n",
    "## Optional\n",
    "\n",
    "- [McKinney, Python for Data Analysis, Appendix A: Python Language Essentials](https://learning.oreilly.com/library/view/python-for-data/9781449323592/apa.html). Read section on Functions.\n",
    "- [Functions (W3S)](https://www.w3schools.com/python/python_functions.asp)</a></li>\n",
    "- [Global and Local Variables (GFG)](https://www.geeksforgeeks.org/global-local-variables-python/?ref=lbp)</a></li>\n",
    "- [Lambda Functions (Real Python)](https://realpython.com/python-lambda/)</a></li>\n"
   ]
  }
 ],
 "metadata": {
  "kernelspec": {
   "display_name": "Python 3 (ipykernel)",
   "language": "python",
   "name": "python3"
  },
  "language_info": {
   "codemirror_mode": {
    "name": "ipython",
    "version": 3
   },
   "file_extension": ".py",
   "mimetype": "text/x-python",
   "name": "python",
   "nbconvert_exporter": "python",
   "pygments_lexer": "ipython3",
   "version": "3.11.3"
  }
 },
 "nbformat": 4,
 "nbformat_minor": 5
}
