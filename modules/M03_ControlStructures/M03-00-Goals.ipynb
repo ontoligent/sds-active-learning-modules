{
 "cells": [
  {
   "cell_type": "markdown",
   "id": "98dd7d8b-45e2-45b3-a6a3-763d94861444",
   "metadata": {},
   "source": [
    "# Module: Control Structures"
   ]
  },
  {
   "cell_type": "markdown",
   "id": "53c4d6ff-1959-49f4-a028-68e4bf50a2af",
   "metadata": {},
   "source": [
    "# Learning Goals\n",
    "\n",
    "After completing this module, the student should:\n",
    "\n",
    "- Understand the difference between statements and expressions in Python.\n",
    "- Know the basic control structures in Python.\n",
    "- Understand how conditional logic is used in these structures.\n",
    "- Know about iterators.\n",
    "- Understand comprehensions in Python and know how to use them.\n",
    "\n",
    "## Learning Outcomes\n",
    "\n",
    "In terms of specific knowledge, skills, and abilities, after completing this module students should be able to:\n",
    "\n",
    "- Recognize primary control structures available in Python and their basic use cases.\n",
    "- Write comprehensions for each of Python's list-like data structures.\n",
    "- Recognize when iterators are used by Python functions (such as `open()`).\n",
    "- Understand basic conditional logic statements and their role in designing data flow in a program.\n"
   ]
  },
  {
   "cell_type": "code",
   "execution_count": null,
   "id": "14bdc898-6412-481e-a713-32dade4d120b",
   "metadata": {},
   "outputs": [],
   "source": []
  }
 ],
 "metadata": {
  "kernelspec": {
   "display_name": "Python 3 (ipykernel)",
   "language": "python",
   "name": "python3"
  },
  "language_info": {
   "codemirror_mode": {
    "name": "ipython",
    "version": 3
   },
   "file_extension": ".py",
   "mimetype": "text/x-python",
   "name": "python",
   "nbconvert_exporter": "python",
   "pygments_lexer": "ipython3",
   "version": "3.11.3"
  }
 },
 "nbformat": 4,
 "nbformat_minor": 5
}
