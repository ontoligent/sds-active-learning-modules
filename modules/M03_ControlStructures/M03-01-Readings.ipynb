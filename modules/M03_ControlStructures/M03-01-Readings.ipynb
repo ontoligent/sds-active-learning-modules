{
 "cells": [
  {
   "cell_type": "markdown",
   "id": "399f4fcb-9fbc-4650-870f-fde8912a692d",
   "metadata": {
    "tags": []
   },
   "source": [
    "# Readings\n",
    "\n",
    "- [Lutz, 2019, Part III, Chapter 10. Introducing Python Statements](https://learning.oreilly.com/library/view/learning-python-5th/9781449355722/ch10.html)\n",
    "- [Lutz, 2019, Part III, Chapter 11. Assignments, Expressions, and Prints](https://learning.oreilly.com/library/view/learning-python-5th/9781449355722/ch11.html) \n",
    "Read only up to and including \"The Python 3.X print Function.\"\n",
    "- [Lutz, 2019, Part III, Chapter 12. if Tests and Syntax Rules](https://learning.oreilly.com/library/view/learning-python-5th/9781449355722/ch12.html)\n",
    "- [Lutz, 2019, Part III, Chapter 13. while and for Loops](https://learning.oreilly.com/library/view/learning-python-5th/9781449355722/ch13.html)\n",
    "- [Lutz, 2019, Part III, Chapter 14. Iterations and Comprehensions](https://learning.oreilly.com/library/view/learning-python-5th/9781449355722/ch14.html)\n",
    "- [Lutz, 2019, Part III, Chapter 15: The Documentations Interlude](https://learning.oreilly.com/library/view/learning-python-5th/9781449355722/ch15.html)\n",
    "\n",
    "## Optional\n",
    "\n",
    "- [Variables, Expressions, Statements, Types](https://thomas-cokelaer.info/tutorials/python/variables.html) (Python Notes)\n",
    "- [More Control Flow Tools (Python Docs)](https://docs.python.org/3/tutorial/controlflow.html)\n",
    "- [If ... Then (W3S)](https://www.w3schools.com/python/python_conditions.asp)\n",
    "- [Iterators (GFG)](https://www.geeksforgeeks.org/iterators-in-python/)"
   ]
  },
  {
   "cell_type": "markdown",
   "id": "604e3c2e-fd7e-4fd8-9dce-1fc9200bacae",
   "metadata": {},
   "source": [
    "## Reading: Values, Variables, Expressions, and Statements\n",
    "\n",
    "**Definitions**\n",
    "\n",
    "* __Values__: Raw data elements represented in a program, e.g. numbers and strings.\n",
    "* __Variables__: Names to which values are assigned.\n",
    "* __Expressions__: Combinations of values, variables, operators, functions, and other expressions that evaluate to a value.\n",
    "* __Statements__: Groupings of expressions that produce some result. Statements **do** things.\n",
    "\n",
    "**Statement Types**\n",
    "\n",
    "See [Statement Types](https://learning.oreilly.com/library/view/learning-python-5th/9781449355722/ch10.html#python_statements) in Lutz."
   ]
  }
 ],
 "metadata": {
  "kernelspec": {
   "display_name": "Python 3 (ipykernel)",
   "language": "python",
   "name": "python3"
  },
  "language_info": {
   "codemirror_mode": {
    "name": "ipython",
    "version": 3
   },
   "file_extension": ".py",
   "mimetype": "text/x-python",
   "name": "python",
   "nbconvert_exporter": "python",
   "pygments_lexer": "ipython3",
   "version": "3.11.3"
  }
 },
 "nbformat": 4,
 "nbformat_minor": 5
}
