{
 "cells": [
  {
   "cell_type": "markdown",
   "id": "611f3a2b-d076-494d-9794-1463fd32a9d5",
   "metadata": {
    "slideshow": {
     "slide_type": "slide"
    },
    "tags": []
   },
   "source": [
    "# M02: Basic Python"
   ]
  },
  {
   "cell_type": "markdown",
   "id": "74bdbde1-f3a7-4408-ba1c-e951e1c1ad34",
   "metadata": {
    "slideshow": {
     "slide_type": "slide"
    },
    "tags": []
   },
   "source": [
    "# Topics"
   ]
  },
  {
   "cell_type": "markdown",
   "id": "6ed75638-6598-405f-b523-cb099f4a3f1d",
   "metadata": {
    "jp-MarkdownHeadingCollapsed": true,
    "slideshow": {
     "slide_type": "slide"
    },
    "tags": [
     "Prompt"
    ]
   },
   "source": [
    "## Programming in Data Science\n",
    "\n",
    "**Outcome**: Describe the idea of programming from the perspective of data science\n",
    "\n",
    "**Read this**: [On Data](../M02-00-2-OnData.qmd)"
   ]
  },
  {
   "cell_type": "markdown",
   "id": "58ddb7ad-a298-43a4-9497-57a17017b7e1",
   "metadata": {
    "slideshow": {
     "slide_type": "slide"
    },
    "tags": [
     "Question"
    ]
   },
   "source": [
    "**Answer this**:\n",
    "\n",
    "_Which of the following statements make sense based on the reading above?_\n",
    "\n",
    "A. Algorithm design can always compensate for poorly designed data structures.\n",
    "\n",
    "B. Good data design leads to better algorithm design.\n",
    "\n",
    "C. Programmers should invest time in understanding how their data are structured.\n",
    "\n",
    "D. It's a good idea for a programmer to convert their knowledge of a problem into the organization of their data, because this allows the program's algorithms to be simple to understand and easier to maintain and communicate. "
   ]
  },
  {
   "cell_type": "markdown",
   "id": "e4d98ec9-ddc3-45a6-911a-7ebbc34f9ac3",
   "metadata": {
    "jp-MarkdownHeadingCollapsed": true,
    "slideshow": {
     "slide_type": "subslide"
    },
    "tags": [
     "Answer"
    ]
   },
   "source": [
    "**Answer:**\n",
    "\n",
    "A. Algorithm design can always compensate for poorly designed data structures.\n",
    "\n",
    "> FALSE. Complicated or poorly structured data may lead to excessively complicated and error-prone algorithms.\n",
    "\n",
    "B. Good data design leads to better algorithm design.\n",
    "\n",
    "> TRUE. Well designed data makes it easer to produce code that is intelligible and maintainable.\n",
    "\n",
    "C. Programmers should invest time in understanding how their data are structured.\n",
    "\n",
    "> TRUE. This is essentially the same as B.\n",
    "\n",
    "D. It's a good idea for a programmer to convert their knowledge of a problem into the organization of their data, because this allows the program's algorithms to be simple to understand and easier to maintain and communicate.\n",
    "\n",
    "> TRUE. This follow's from [Eric Raymond's \"Rule of Representation\"](http://www.catb.org/~esr/writings/taoup/html/ch01s06.html).\n",
    "\n"
   ]
  },
  {
   "cell_type": "markdown",
   "id": "84e6d972-08ce-4a08-a710-0e1fe1488931",
   "metadata": {
    "jp-MarkdownHeadingCollapsed": true,
    "tags": [
     "Prompt"
    ]
   },
   "source": [
    "## Running Python\n",
    "\n",
    "**Outcome**: Write a simple Python script and run it from a notebook or from the command line.\n",
    "\n",
    "**Read this:**\n",
    "\n",
    "- [Katz and Katz 2019: Preparing the Workspace](https://learning.oreilly.com/library/view/learn-python-by/9781789535365/8f352965-cebb-43c0-b2ca-0f6bf944899e.xhtml)\n",
    "- [Lutz 2013: Chapter 2](https://learning.oreilly.com/library/view/learning-python-5th/9781449355722/ch02.html)\n",
    "- [Lutz 2013: Chapter 3](https://learning.oreilly.com/library/view/learning-python-5th/9781449355722/ch03.html)"
   ]
  },
  {
   "cell_type": "markdown",
   "id": "acad84b6-2e09-4bf3-aefc-c3d7a9ee4e69",
   "metadata": {
    "tags": [
     "Activity"
    ]
   },
   "source": [
    "**Do this:**\n",
    "\n",
    "- [Activity 1: Hello, World!](../Activities/M02-00-4-ActivityHelloWorld.qmd)\n",
    "- [Activity 2: Jupyter on Rivanna](../Activities/M02-00-5-ActivityJupyterLabOnRivanna.qmd)"
   ]
  },
  {
   "cell_type": "markdown",
   "id": "e0746c3b-38f8-49e0-8ea8-be2c3beeba3f",
   "metadata": {
    "tags": [
     "Question"
    ]
   },
   "source": [
    "**Answer this:**\n",
    "\n",
    "_Which of the following are valid ways to run lines of Python code?_\n",
    "\n",
    "A. From within the GitHub website, by clicking on a Jupyter notebook.\n",
    "\n",
    "B. From the command line, by typing in python, pressing return, and then interactively entering the lines.\n",
    "\n",
    "C. From within a code cell in a Jupyter notebook running on Jupyter Lab.\n",
    "\n",
    "D. From a text file, with a .py extension. as an argument to calling Python from the command line."
   ]
  },
  {
   "cell_type": "markdown",
   "id": "ef63e8cf-be1c-4564-970b-ddec9289d78e",
   "metadata": {
    "slideshow": {
     "slide_type": "subslide"
    },
    "tags": [
     "Answer"
    ]
   },
   "source": [
    "**Answer:**\n",
    "\n",
    "B, C, and D all represent valid ways of running a Python program. A is not because although GitHub allows you to see rendered Jupyter notebools, it does not have a place to run them.\n",
    "\n"
   ]
  },
  {
   "cell_type": "markdown",
   "id": "6f3077aa-24a7-4abc-9a82-9f468055cb91",
   "metadata": {
    "jp-MarkdownHeadingCollapsed": true,
    "tags": [
     "Prompt"
    ]
   },
   "source": [
    "## Values, Literals, and Variables\n",
    "\n",
    "**Outcomes:** \n",
    "\n",
    "- Know the distinction between a literal value and a variable.\n",
    "- Know to assign a value to a variable.\n",
    "\n",
    "**Read this:**\n",
    "\n",
    "- [Katz 2019: Assigning variables](https://learning.oreilly.com/library/view/learn-python-by/9781789535365/fffca032-3bc1-4693-b159-a52585b5bd91.xhtml)\n",
    "- [Katz 2019: Naming the variable](https://learning.oreilly.com/library/view/learn-python-by/9781789535365/64a7ad27-aa3a-4ba0-9a41-a8005d335a5f.xhtml)\n",
    "\n",
    "**Do this:**\n",
    "\n",
    "\n",
    "\n",
    "**Answer this:**"
   ]
  },
  {
   "cell_type": "markdown",
   "id": "bf36a4bf-799a-478b-9e05-47dd5830fabf",
   "metadata": {
    "tags": [
     "Prompt"
    ]
   },
   "source": [
    "## Data Types \n",
    "\n",
    "**Outcome:** Know the names of primary data types in Python -- floats, integers, booleans, and strings -- and how to represent literal values for each\n",
    "\n",
    "**Read this:**\n",
    "\n",
    "- [Katz and Katz 2019, Section 1, First Steps in Coding&mdash;Variables and Data Types](https://learning.oreilly.com/library/view/learn-python-by/9781789535365/5fea535c-b144-4c8b-b20b-0a0ee1c1f157.xhtml)\n",
    "\n",
    "  - Understanding data types\n",
    "  - Show More Items\n",
    "  - Converting the data types\n",
    "----\n",
    "- [Built-in Types (Official)](https://docs.python.org/3/library/stdtypes.html)\n",
    "- [Python Data Types (GFG)](https://www.geeksforgeeks.org/python-data-types/)\n",
    "- [Python Operators (W3S)](https://www.w3schools.com/python/python_operators.asp)\n",
    "- [Immutable vs Mutable Data Types in Python (Medium)](https://towardsdatascience.com/immutable-vs-mutable-data-types-in-python-e8a9a6fcfbdc)"
   ]
  },
  {
   "cell_type": "markdown",
   "id": "05645449-9680-44d5-baca-e26bce1929dd",
   "metadata": {},
   "source": [
    "## Know the basic operators, functions, and methods associated with each data type"
   ]
  },
  {
   "cell_type": "markdown",
   "id": "2e21bf8b-8710-42c1-ab14-3c7822fe5888",
   "metadata": {},
   "source": [
    "## Understand the distinction between and operator, function, and method"
   ]
  },
  {
   "cell_type": "markdown",
   "id": "542f217c-07d4-4266-b0c8-c0c2409c848c",
   "metadata": {},
   "source": [
    "## Know how to convert a value of one type to another"
   ]
  },
  {
   "cell_type": "markdown",
   "id": "c0c84bc4-3fd9-4e63-8f9c-ef3eb5456bd5",
   "metadata": {},
   "source": [
    "## Know how to find our the type of value or variable"
   ]
  },
  {
   "cell_type": "markdown",
   "id": "fc1c45ab-c0f2-4e53-9998-5483d9e7bde9",
   "metadata": {},
   "source": [
    "## Know Python's built-in data structures -- tuples, lists, dictionaries, and sets"
   ]
  },
  {
   "cell_type": "markdown",
   "id": "413950ef-fa84-411f-822a-751881d7e9b0",
   "metadata": {},
   "source": [
    "## Know the basic operators, methods, and functions associated with each data structure"
   ]
  },
  {
   "cell_type": "markdown",
   "id": "0a446bde-d178-447f-8ba5-6caf2a721414",
   "metadata": {},
   "source": [
    "## Understand the concept of an expression and its relation to literals, variables, operators, and functions"
   ]
  },
  {
   "cell_type": "code",
   "execution_count": null,
   "id": "1a8dfebe-5f62-429b-853b-edea6820bbaf",
   "metadata": {},
   "outputs": [],
   "source": []
  },
  {
   "cell_type": "code",
   "execution_count": null,
   "id": "9fa8dd0a-f3bb-471a-b867-ec3fa08b43f7",
   "metadata": {},
   "outputs": [],
   "source": []
  }
 ],
 "metadata": {
  "kernelspec": {
   "display_name": "eta",
   "language": "python",
   "name": "eta"
  },
  "language_info": {
   "codemirror_mode": {
    "name": "ipython",
    "version": 3
   },
   "file_extension": ".py",
   "mimetype": "text/x-python",
   "name": "python",
   "nbconvert_exporter": "python",
   "pygments_lexer": "ipython3",
   "version": "3.11.3"
  }
 },
 "nbformat": 4,
 "nbformat_minor": 5
}
