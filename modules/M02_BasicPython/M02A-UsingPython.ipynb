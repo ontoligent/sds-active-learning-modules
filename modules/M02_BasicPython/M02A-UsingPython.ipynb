{
 "cells": [
  {
   "cell_type": "markdown",
   "id": "666ef150-67ef-4fb7-84f1-409d4a2a2368",
   "metadata": {},
   "source": [
    "# Module: Using Python"
   ]
  },
  {
   "cell_type": "markdown",
   "id": "673d2c9e-f201-4e9a-ab55-2dfac80c067e",
   "metadata": {},
   "source": [
    "# Learning Goals\n",
    "\n",
    "After completing this module, the student should:\n",
    "\n",
    "- Be able to run a simple script from a variety of contexts.\n",
    "- Understand the difference between these contexts.\n",
    "\n",
    "# Learning Outcomes\n",
    "\n",
    "In terms of specific knowledge, skills, and abilities, after completing this module students should be able to:\n",
    "\n",
    "- Be able to run a simple Python script from the command line.\n",
    "- Be able to run simple lines of code from Python's REPL.\n",
    "- Be able to run a simple Python script from a Jupyter notebook in Jupyter Lab."
   ]
  },
  {
   "cell_type": "markdown",
   "id": "05d73a86-0834-4881-95a5-0ac67a77d259",
   "metadata": {},
   "source": [
    "# Readings\n",
    "\n",
    "- [Katz and Katz 2019, Section 1, Preparing the Workspace](https://learning.oreilly.com/library/view/learn-python-by/9781789535365/8f352965-cebb-43c0-b2ca-0f6bf944899e.xhtml)\n",
    "- [Lutz, Learning Python, Part I: Getting Started, Chapter 2](https://learning.oreilly.com/library/view/learning-python-5th/9781449355722/ch02.html)\n",
    "- [Lutz, Learning Python, Part I: Getting Started, Chapter 3](https://learning.oreilly.com/library/view/learning-python-5th/9781449355722/ch03.html)\n"
   ]
  },
  {
   "cell_type": "markdown",
   "id": "fb144d8a-235d-4411-973c-6a42b97a8845",
   "metadata": {},
   "source": [
    "# Acitivity 1: Hello, World!"
   ]
  },
  {
   "cell_type": "markdown",
   "id": "003a0e71-7d2c-4cad-b46a-d8ec3ce4c0c2",
   "metadata": {},
   "source": [
    "In this activity, you will run Python from the command line and become acquainted with its most basic mode of operation.\n",
    "\n",
    "To get started, log onto the Rivanna shell and move into in the course directory you created for this class.\n",
    "\n",
    "## Which Python?\n",
    "\n",
    "Once you are in Rivanna, you will want to know which version of Python you have installed as the default.\n",
    "\n",
    "To find out, from the command line type:\n",
    "\n",
    "```bash\n",
    "which python\n",
    "```\n",
    "\n",
    "This will show you the \"path\" to a python interpreter. For example:\n",
    "\n",
    "![](../../media/which-python.png)\n",
    "\n",
    "If you do not see \"anaconda\" in that path, then run the following command:\n",
    "\n",
    "```bash\n",
    "module load anaconda\n",
    "```\n",
    "\n",
    "This will update your environment to use Anaconda's distribution of Python.\n",
    "\n",
    "After running the command, enter the command to see which pythion is being used to confirm that it is the one from Ancaconda.\n",
    "\n",
    "## Aside\n",
    "\n",
    "Note that you can use `module` to run other programs on your Rivanna account.\n",
    "\n",
    "Type `module list` to see which programs have already been installed on your account.\n",
    "\n",
    "Type `module spider` to see all the programs you can install.\n",
    "\n",
    "## The Python Interactive Shell\n",
    "\n",
    "From the command line, enter python\n",
    "\n",
    "You should get the Python Shell:\n",
    "\n",
    "![](../../media/python-prompt.png)\n",
    "\n",
    "This is also called the Python standard REPL, which stands for \"Read-Eval-Print Loop\".\n",
    "\n",
    "Make sure you see that you are using version 3 of Python.\n",
    "\n",
    "If you see Python 2, exit the shell by entering `quit()` and try again by entering python3 at the command line.\n",
    "\n",
    "At the `>>>` prompt type `print(\"Hello, World!\")` and press return.\n",
    "\n",
    "If you've never used Python, you've just completed an important ritual. If you have used Python, well, you did it again :-)\n",
    "\n",
    "## Try `this`\n",
    "\n",
    "Now, enter following line at the prompt and press return:\n",
    "\n",
    "``` python\n",
    "import this\n",
    "```\n",
    "\n",
    "What do you see?\n",
    "\n",
    "To exit the Python Shell, enter `quit()` or `exit()` and hit return.\n",
    "\n",
    "## Running Python Files\n",
    "\n",
    "Now create a file called `hello.py` using the command line editor `nano`. Enter the same commands you used above.\n",
    "\n",
    "Then run it from the command line by directly invoking the Python interpreter python."
   ]
  },
  {
   "cell_type": "markdown",
   "id": "d9aeae7a-a46f-46a0-b0cf-a45a83f31004",
   "metadata": {
    "tags": []
   },
   "source": [
    "# Activity 2: Using Jupyter Lab\n",
    "\n",
    "Now that we have run Python on Rivanna from the command line, let's try it using a Jupyter Notebook. \n",
    "\n",
    "Go the OnDemand site to access Rivanna. As a reminder, the URL is [https://rivanna-portal.hpc.virginia.edu/](https://rivanna-portal.hpc.virginia.edu/).\n",
    "\n",
    "From the Interactive Apps menu, select JupyterLab and fill out the form to initiate a new session. Your form should have the following values:\n",
    "\n",
    "----\n",
    "\n",
    "![](../../media/jupyter-on-rivanna-form.png)\n",
    "\n",
    "----\n",
    "\n",
    "> Note that you may increase the number of hours, cores, and megabytes of RAM, but asking for too much will increase the time it takes to start your session. So select just the resources needed and enter the course allocation given by your instructor if this value is different than in the image above.\n",
    "\n",
    "Once the session is ready, launch the notebook.\n",
    "\n",
    "Once you are in the notebook, use file system tab on the left to get to the directory of your personal assessments repo. Remember, you created two repos for this class &mdash; one for course content from the instructor, and one for your own course work. Use the latter for this exercise. \n",
    "\n",
    "In a code cell in the notebook, enter the code to print `\"Hello, World!\"`, and run the cell.\n",
    "\n",
    "Save your notebook as `hello-world.ipynb`."
   ]
  },
  {
   "cell_type": "markdown",
   "id": "64816d6e-764b-40b4-b069-71a5748df3a7",
   "metadata": {
    "tags": []
   },
   "source": [
    "# Quiz\n",
    "\n",
    "**Q1. Which of the following are valid ways to run lines of Python code?**\n",
    "\n",
    "A. From within the GitHub website, by clicking on a Jupyter notebook.\n",
    "\n",
    "B. From the command line, by typing in python, pressing return, and then interactively entering the lines.\n",
    "\n",
    "C. From within a code cell in a Jupyter notebook running on Jupyter Lab.\n",
    "\n",
    "D. From a text file, with a .py extension. as an argument to calling Python from the command line.\n"
   ]
  },
  {
   "cell_type": "code",
   "execution_count": null,
   "id": "a2a9af88-e039-4bf8-a212-dfc8b159b885",
   "metadata": {},
   "outputs": [],
   "source": []
  }
 ],
 "metadata": {
  "kernelspec": {
   "display_name": "Python 3 (ipykernel)",
   "language": "python",
   "name": "python3"
  },
  "language_info": {
   "codemirror_mode": {
    "name": "ipython",
    "version": 3
   },
   "file_extension": ".py",
   "mimetype": "text/x-python",
   "name": "python",
   "nbconvert_exporter": "python",
   "pygments_lexer": "ipython3",
   "version": "3.11.3"
  }
 },
 "nbformat": 4,
 "nbformat_minor": 5
}
