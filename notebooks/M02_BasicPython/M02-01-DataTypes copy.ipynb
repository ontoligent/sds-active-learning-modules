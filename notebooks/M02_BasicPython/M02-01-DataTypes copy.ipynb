{
  "cells": [
    {
      "cell_type": "markdown",
      "metadata": {},
      "source": [
        "```\n",
        "title: \"M02 Python Basics\"\n",
        "author: R.C. Alvarado\n",
        "date: 21 June 2022 (Modified 28 January 2023)\n",
        "format: html\n",
        "```\n",
        "\n",
        "## Python Data Types\n",
        "\n",
        "We declare a number of variables with different value types.\n",
        "\n",
        "By 'type' we mean object type. \n",
        "\n",
        "Data types and data structures are both types of object.\n",
        "\n",
        "Data types are created by the way they are written or as keywords ...\n",
        "\n",
        "Here is a series of literal values (called **literals**):\n",
        "\n",
        "**Integers**\n"
      ],
      "id": "f765969e"
    },
    {
      "cell_type": "code",
      "metadata": {},
      "source": [
        "10"
      ],
      "id": "a5c7f20b",
      "execution_count": null,
      "outputs": []
    },
    {
      "cell_type": "markdown",
      "metadata": {},
      "source": [
        "**Floats (decimals)**\n"
      ],
      "id": "e40f1715"
    },
    {
      "cell_type": "code",
      "metadata": {},
      "source": [
        "3.14 "
      ],
      "id": "8dd5b93a",
      "execution_count": null,
      "outputs": []
    },
    {
      "cell_type": "markdown",
      "metadata": {},
      "source": [
        "**Strings**\n",
        "\n",
        "Type of quote does not matter, but they must be straight quotes, not \"smart quotes\" that some word processors use.\n",
        "\n",
        "Note that there is no explicit **character** type as in Java and other languages.\n"
      ],
      "id": "c3d38b7b"
    },
    {
      "cell_type": "code",
      "metadata": {},
      "source": [
        "\"foo\" "
      ],
      "id": "e1834dea",
      "execution_count": null,
      "outputs": []
    },
    {
      "cell_type": "code",
      "metadata": {},
      "source": [
        "'foo'"
      ],
      "id": "d7d33fd2",
      "execution_count": null,
      "outputs": []
    },
    {
      "cell_type": "markdown",
      "metadata": {},
      "source": [
        "**Boolean**\n"
      ],
      "id": "35f20c6f"
    },
    {
      "cell_type": "code",
      "metadata": {},
      "source": [
        "True, False"
      ],
      "id": "d81c2adf",
      "execution_count": null,
      "outputs": []
    },
    {
      "cell_type": "markdown",
      "metadata": {},
      "source": [
        "**Nothing**\n",
        "\n",
        "It evaluates to nothing!\n"
      ],
      "id": "3484163f"
    },
    {
      "cell_type": "code",
      "metadata": {},
      "source": [
        "None"
      ],
      "id": "192f3c73",
      "execution_count": null,
      "outputs": []
    },
    {
      "cell_type": "code",
      "metadata": {},
      "source": [
        "print(None)"
      ],
      "id": "dc19851f",
      "execution_count": null,
      "outputs": []
    },
    {
      "cell_type": "markdown",
      "metadata": {},
      "source": [
        "**Complex**\n",
        "\n",
        "For the physicists and signal processors.\n"
      ],
      "id": "645d1b01"
    },
    {
      "cell_type": "code",
      "metadata": {},
      "source": [
        "5+0j"
      ],
      "id": "455a4447",
      "execution_count": null,
      "outputs": []
    },
    {
      "cell_type": "markdown",
      "metadata": {},
      "source": [
        "## Getting the type of a value\n",
        "\n",
        "You can always find out what kind of type you are working with by calling the `type()` function.\n"
      ],
      "id": "b2a17ad4"
    },
    {
      "cell_type": "code",
      "metadata": {},
      "source": [
        "print(type(3.14))\n",
        "print(type(\"foo\"))\n",
        "print(type('foo'))\n",
        "print(type(True))\n",
        "print(type(None))"
      ],
      "id": "742267a1",
      "execution_count": null,
      "outputs": []
    },
    {
      "cell_type": "markdown",
      "metadata": {},
      "source": [
        "## Assignment\n",
        "\n",
        "Data are assigned to **variables** using the assignment **operator** `=`.\n",
        "\n",
        "The variable is always on the **left**, the value assigned to it on the **right**.\n",
        "\n",
        "This is not the same as mathemtical equality.\n",
        "\n",
        "Variables are assigned types **dynamically**. \n",
        "\n",
        "This is in contrast to static typing, where you have define variables by asserting what kind of data values they can hold.\n",
        "\n",
        "Python figures out what type of data is being set to the variable and implicitly stores that info.\n"
      ],
      "id": "6e132fc0"
    },
    {
      "cell_type": "code",
      "metadata": {},
      "source": [
        "integerEx = 8\n",
        "longIntEx = 22000000000000000000000\n",
        "floatEx = 2.2\n",
        "stringEx = \"Hello\"\n",
        "booleanEx = True\n",
        "noneEx = None"
      ],
      "id": "6246b2d0",
      "execution_count": null,
      "outputs": []
    },
    {
      "cell_type": "markdown",
      "metadata": {},
      "source": [
        "**Note that `type()` returns the type of the value that a variable holds, not the type \"variable\".\n"
      ],
      "id": "b7311f7e"
    },
    {
      "cell_type": "code",
      "metadata": {},
      "source": [
        "print(type(integerEx))"
      ],
      "id": "85f8d05f",
      "execution_count": null,
      "outputs": []
    },
    {
      "cell_type": "markdown",
      "metadata": {},
      "source": [
        "## Deleting variables with `del()`\n"
      ],
      "id": "4b6a7f58"
    },
    {
      "cell_type": "code",
      "metadata": {},
      "source": [
        "x = 101.25"
      ],
      "id": "c9277b5b",
      "execution_count": null,
      "outputs": []
    },
    {
      "cell_type": "code",
      "metadata": {},
      "source": [
        "x"
      ],
      "id": "8e7cf3c4",
      "execution_count": null,
      "outputs": []
    },
    {
      "cell_type": "code",
      "metadata": {},
      "source": [
        "del(x)  # delete the variable x"
      ],
      "id": "db09a68d",
      "execution_count": null,
      "outputs": []
    },
    {
      "cell_type": "code",
      "metadata": {},
      "source": [
        "x"
      ],
      "id": "8577a0ee",
      "execution_count": null,
      "outputs": []
    },
    {
      "cell_type": "markdown",
      "metadata": {},
      "source": [
        "You can't delete values!\n"
      ],
      "id": "b07a6427"
    },
    {
      "cell_type": "code",
      "metadata": {},
      "source": [
        "del(\"foo\")"
      ],
      "id": "2bf7038f",
      "execution_count": null,
      "outputs": []
    },
    {
      "cell_type": "markdown",
      "metadata": {},
      "source": [
        "# Get Object Indenity with `id()`\n",
        "\n",
        "This function returns the identity of an object. \n",
        "\n",
        "The identity is a number that is guaranteed to be unique and constant for this object during its lifetime (during the program session).\n",
        "\n",
        "You can think of it as the address of the object in memory.\n"
      ],
      "id": "3160eb4d"
    },
    {
      "cell_type": "code",
      "metadata": {},
      "source": [
        "print(id(integerEx))"
      ],
      "id": "58e470a8",
      "execution_count": null,
      "outputs": []
    },
    {
      "cell_type": "markdown",
      "metadata": {},
      "source": [
        "# Convert Types with Casting Functions\n",
        "\n",
        "It is possible to convert between types (when it makes sense to do so).\n",
        "\n",
        "Sometimes conversions are \"lossy\" -- you lose information in the process\n",
        "\n",
        "## `int()` \n"
      ],
      "id": "8eca04e1"
    },
    {
      "cell_type": "code",
      "metadata": {},
      "source": [
        "int?"
      ],
      "id": "7b012ae9",
      "execution_count": null,
      "outputs": []
    },
    {
      "cell_type": "markdown",
      "metadata": {},
      "source": [
        "**Float to Int**\n"
      ],
      "id": "e78adc63"
    },
    {
      "cell_type": "code",
      "metadata": {},
      "source": [
        "val = 3.8\n",
        "print(val, type(val))"
      ],
      "id": "04094e16",
      "execution_count": null,
      "outputs": []
    },
    {
      "cell_type": "code",
      "metadata": {},
      "source": [
        "val_int = int(val)\n",
        "print(val_int, type(val_int))"
      ],
      "id": "f223a1c2",
      "execution_count": null,
      "outputs": []
    },
    {
      "cell_type": "markdown",
      "metadata": {},
      "source": [
        "**String to Float**\n"
      ],
      "id": "d533c411"
    },
    {
      "cell_type": "code",
      "metadata": {},
      "source": [
        "val = '3.8'\n",
        "print(val, type(val))"
      ],
      "id": "0bb20515",
      "execution_count": null,
      "outputs": []
    },
    {
      "cell_type": "code",
      "metadata": {},
      "source": [
        "val_int = float(val)\n",
        "print(val_int, type(val_int))"
      ],
      "id": "65723c06",
      "execution_count": null,
      "outputs": []
    },
    {
      "cell_type": "markdown",
      "metadata": {},
      "source": [
        "**Converting string decimal to integer will fail:**\n"
      ],
      "id": "2b0b6c47"
    },
    {
      "cell_type": "code",
      "metadata": {},
      "source": [
        "val = '3.8'\n",
        "print(val, type(val))"
      ],
      "id": "9324c5d8",
      "execution_count": null,
      "outputs": []
    },
    {
      "cell_type": "code",
      "metadata": {},
      "source": [
        "val_int = int(val)\n",
        "print(val_int, type(val_int))"
      ],
      "id": "6e4ad615",
      "execution_count": null,
      "outputs": []
    },
    {
      "cell_type": "markdown",
      "metadata": {},
      "source": [
        "## `ord()`\n",
        "\n",
        "**Converting a character to it's code point**\n"
      ],
      "id": "7134a18b"
    },
    {
      "cell_type": "code",
      "metadata": {},
      "source": [
        "ord?"
      ],
      "id": "eed2c85c",
      "execution_count": null,
      "outputs": []
    },
    {
      "cell_type": "code",
      "metadata": {},
      "source": [
        "ord('a'), ord('A')"
      ],
      "id": "38cb7ca3",
      "execution_count": null,
      "outputs": []
    },
    {
      "cell_type": "markdown",
      "metadata": {},
      "source": [
        "# Operators\n",
        "\n",
        "If variables are **nouns**, and values **meanings**, then operators are **verbs**.\n",
        "\n",
        "In effect, they are **elementary functions** that are expressed in sequential syntax.\n",
        "\n",
        "`a + b` could have been expressed as `add(a, b)`.\n",
        "\n",
        "Basically, **each data type is associated with a set of operators** that allow you to manipulate the data in way that makes sense for its type. Numeric data types are subject to mathematical operations, booleans to logical ones, and so forth.\n",
        "\n",
        "There are also **operations appropriate to structures**. For example, list-like things have membership.\n",
        "\n",
        "The relationship between types and operators is a microcosm of the relationship betweed data structures and algorithms. **Data structures imply algorithms and algorithms assume data structures.**\n",
        "\n",
        "The w3schools site has [a good summary](https://www.w3schools.com/python/python_operators.asp).\n",
        "\n",
        "Here are some you may not have seen.\n",
        "\n",
        "## Arithmetic Operators\n",
        "\n",
        "### floor division `//`\n"
      ],
      "id": "9a95e665"
    },
    {
      "cell_type": "code",
      "metadata": {},
      "source": [
        "5 // 2"
      ],
      "id": "44a193f9",
      "execution_count": null,
      "outputs": []
    },
    {
      "cell_type": "code",
      "metadata": {},
      "source": [
        "-5 // 2"
      ],
      "id": "65034ed2",
      "execution_count": null,
      "outputs": []
    },
    {
      "cell_type": "code",
      "metadata": {},
      "source": [
        "5.5 // 2"
      ],
      "id": "0296c036",
      "execution_count": null,
      "outputs": []
    },
    {
      "cell_type": "markdown",
      "metadata": {},
      "source": [
        "### modulus `%`\n",
        "\n",
        "Returns the remainder\n"
      ],
      "id": "2301af20"
    },
    {
      "cell_type": "code",
      "metadata": {},
      "source": [
        "5 % 2"
      ],
      "id": "84703e32",
      "execution_count": null,
      "outputs": []
    },
    {
      "cell_type": "markdown",
      "metadata": {},
      "source": [
        "odd integers % 2 = 1  \n",
        "even integers % 2 = 0\n",
        "\n",
        "Look at this ... \n"
      ],
      "id": "8465e704"
    },
    {
      "cell_type": "code",
      "metadata": {},
      "source": [
        "5.5 / 2, 5.5 // 2, 5.5 % 2"
      ],
      "id": "7495d316",
      "execution_count": null,
      "outputs": []
    },
    {
      "cell_type": "markdown",
      "metadata": {},
      "source": [
        "### exponentiation `**`\n"
      ],
      "id": "4f7c35c7"
    },
    {
      "cell_type": "code",
      "metadata": {},
      "source": [
        "5**3"
      ],
      "id": "fedc516c",
      "execution_count": null,
      "outputs": []
    },
    {
      "cell_type": "markdown",
      "metadata": {},
      "source": [
        "## String Operators\n",
        "\n",
        "### concatenation `+`\n",
        "\n",
        "The plus sign is an **ovderloaded** operator in Python.\n"
      ],
      "id": "0b9dbf8e"
    },
    {
      "cell_type": "code",
      "metadata": {},
      "source": [
        "myString = 'This: '"
      ],
      "id": "c34fe6df",
      "execution_count": null,
      "outputs": []
    },
    {
      "cell_type": "code",
      "metadata": {},
      "source": [
        "my2ndString = myString + ' Goodbye, world!'"
      ],
      "id": "358ee5d1",
      "execution_count": null,
      "outputs": []
    },
    {
      "cell_type": "code",
      "metadata": {},
      "source": [
        "my2ndString"
      ],
      "id": "dd727bcc",
      "execution_count": null,
      "outputs": []
    },
    {
      "cell_type": "markdown",
      "metadata": {},
      "source": [
        "### repetition `*`\n"
      ],
      "id": "212da468"
    },
    {
      "cell_type": "code",
      "metadata": {},
      "source": [
        "myString*2                     "
      ],
      "id": "649bcf28",
      "execution_count": null,
      "outputs": []
    },
    {
      "cell_type": "code",
      "metadata": {},
      "source": [
        "myString * 5"
      ],
      "id": "62bf1143",
      "execution_count": null,
      "outputs": []
    },
    {
      "cell_type": "code",
      "metadata": {},
      "source": [
        "bart_S1E3 = 'I will not skateboard in the halls'"
      ],
      "id": "69ed0a13",
      "execution_count": null,
      "outputs": []
    },
    {
      "cell_type": "code",
      "metadata": {},
      "source": [
        "print((bart_S1E3 + '\\n') * 5)"
      ],
      "id": "4a957143",
      "execution_count": null,
      "outputs": []
    },
    {
      "cell_type": "code",
      "metadata": {},
      "source": [
        "print('-' * 80)"
      ],
      "id": "7c79d011",
      "execution_count": null,
      "outputs": []
    },
    {
      "cell_type": "markdown",
      "metadata": {},
      "source": [
        "[See them all](https://simpsonswiki.com/wiki/List_of_chalkboard_gags) :-)\n",
        "\n",
        "## Assignment Operator `=`\n",
        "\n",
        "We've used this already, but it too is an operator.\n"
      ],
      "id": "31dd24bf"
    },
    {
      "cell_type": "code",
      "metadata": {},
      "source": [
        "epoch = 20\n",
        "print('epoch:', epoch)"
      ],
      "id": "24269b1c",
      "execution_count": null,
      "outputs": []
    },
    {
      "cell_type": "markdown",
      "metadata": {},
      "source": [
        "## Comparison Operators\n",
        "\n",
        "Comparisons are questions.\n",
        "\n",
        "They return a boolean value. \n",
        "\n",
        "### equality `==`\n"
      ],
      "id": "17707ac2"
    },
    {
      "cell_type": "code",
      "metadata": {},
      "source": [
        "0 == (10 % 5)"
      ],
      "id": "16d89a9f",
      "execution_count": null,
      "outputs": []
    },
    {
      "cell_type": "code",
      "metadata": {},
      "source": [
        "'Boo' == 'Hoo'"
      ],
      "id": "4c50e95a",
      "execution_count": null,
      "outputs": []
    },
    {
      "cell_type": "markdown",
      "metadata": {},
      "source": [
        "Can we compare strings\n"
      ],
      "id": "d8d52d70"
    },
    {
      "cell_type": "code",
      "metadata": {},
      "source": [
        "'A' < 'B'"
      ],
      "id": "26afa3fc",
      "execution_count": null,
      "outputs": []
    },
    {
      "cell_type": "code",
      "metadata": {},
      "source": [
        "ord('A'), ord('B')"
      ],
      "id": "0be9028a",
      "execution_count": null,
      "outputs": []
    },
    {
      "cell_type": "markdown",
      "metadata": {},
      "source": [
        "### inequality `!=`\n"
      ],
      "id": "34dd6df8"
    },
    {
      "cell_type": "code",
      "metadata": {},
      "source": [
        "5/9 != 0.5555"
      ],
      "id": "3a21a315",
      "execution_count": null,
      "outputs": []
    },
    {
      "cell_type": "markdown",
      "metadata": {},
      "source": [
        "## Logical Operators\n",
        "\n",
        "Python uses words where other languages will use other symbols.\n",
        "\n",
        "### Conjunctions `and`, `or`, `not`\n",
        "\n",
        "Note the we group comparisons with parentheses.\n"
      ],
      "id": "2f9c00fc"
    },
    {
      "cell_type": "code",
      "metadata": {},
      "source": [
        "x = 10\n",
        "\n",
        "(x % 10 == 0) or (x < -1)"
      ],
      "id": "e8a4917a",
      "execution_count": null,
      "outputs": []
    },
    {
      "cell_type": "code",
      "metadata": {},
      "source": [
        "(x % 10 == 0) and (x < -1)"
      ],
      "id": "02831c46",
      "execution_count": null,
      "outputs": []
    },
    {
      "cell_type": "code",
      "metadata": {},
      "source": [
        "not x == 5"
      ],
      "id": "275739b6",
      "execution_count": null,
      "outputs": []
    },
    {
      "cell_type": "markdown",
      "metadata": {},
      "source": [
        "### Identity `is`\n",
        "\n",
        "The `is` keyword is used to test if two variables refer to the same object.\n",
        "\n",
        "The test returns `True` if the two objects are the same object.\n",
        "\n",
        "The test returns False if they are not the same object, even if the two objects are 100% equal.\n",
        "\n",
        "Use the `==` operator to test if two variables are equal.\n",
        "\n",
        "-- from [W3Schools on Identity Operators](https://www.w3schools.com/python/gloss_python_identity_operators.asp)\n",
        "\n",
        "`is`\n"
      ],
      "id": "2305f3dd"
    },
    {
      "cell_type": "code",
      "metadata": {},
      "source": [
        "x = 'fail'"
      ],
      "id": "26141e09",
      "execution_count": null,
      "outputs": []
    },
    {
      "cell_type": "code",
      "metadata": {},
      "source": [
        "x is 'fail'"
      ],
      "id": "58a8e034",
      "execution_count": null,
      "outputs": []
    },
    {
      "cell_type": "markdown",
      "metadata": {},
      "source": [
        "`is not`\n"
      ],
      "id": "c6739ea9"
    },
    {
      "cell_type": "code",
      "metadata": {},
      "source": [
        "x is not 'fail'"
      ],
      "id": "3a67df78",
      "execution_count": null,
      "outputs": []
    },
    {
      "cell_type": "code",
      "metadata": {},
      "source": [
        "x = 'foo'\n",
        "y = 'foo'\n",
        "x is y"
      ],
      "id": "428b7351",
      "execution_count": null,
      "outputs": []
    },
    {
      "cell_type": "code",
      "metadata": {},
      "source": [
        "x = ['a']\n",
        "y = ['a']\n",
        "x is y"
      ],
      "id": "955b1336",
      "execution_count": null,
      "outputs": []
    },
    {
      "cell_type": "markdown",
      "metadata": {},
      "source": [
        "### Negation `not`\n"
      ],
      "id": "4e3098db"
    },
    {
      "cell_type": "code",
      "metadata": {},
      "source": [
        "not True, not False, not 0, not 1, not 1000, not None"
      ],
      "id": "f760a32d",
      "execution_count": null,
      "outputs": []
    },
    {
      "cell_type": "markdown",
      "metadata": {},
      "source": [
        "# Unary Operators\n",
        "\n",
        "Python offers a short-cut for most operators. When updating a variable with an operation to that variable, such as:\n",
        "```python\n",
        "my_var = my_var + 1  # Incrementing\n",
        "```\n",
        "\n",
        "You can do this:\n",
        "```python\n",
        "my_var += 1\n",
        "```\n",
        "\n",
        "Python supports many operators this way. Here are some:\n",
        "```python\n",
        "a -= a\n",
        "a \\= a\n",
        "a \\\\= a\n",
        "a %= a\n",
        "a *= a\n",
        "a **= a\n",
        "```\n",
        "\n",
        "# Expressions\n",
        "\n",
        "Variables, literal values, and operators are the building blocks of ebxpressions.\n",
        "\n",
        "For example, the following combines three operators and four variables:\n"
      ],
      "id": "fbc8c056"
    },
    {
      "cell_type": "code",
      "metadata": {},
      "source": [
        "1 + 2 * 3 / 2"
      ],
      "id": "a493e9fd",
      "execution_count": null,
      "outputs": []
    },
    {
      "cell_type": "markdown",
      "metadata": {},
      "source": [
        "Python employs **operator precedence** when evaluating expressions:\n",
        "\n",
        "```\n",
        "P – Parentheses\n",
        "E – Exponentiation\n",
        "M – Multiplication\n",
        "D – Division\n",
        "A – Addition\n",
        "S – Subtraction\n",
        "```\n",
        "\n",
        "You can use parentheses to group them to force the order of operations you want:\n"
      ],
      "id": "7e5d9a10"
    },
    {
      "cell_type": "code",
      "metadata": {},
      "source": [
        "(1 + 2) * (3 / 2)"
      ],
      "id": "358dfa4a",
      "execution_count": null,
      "outputs": []
    },
    {
      "cell_type": "markdown",
      "metadata": {},
      "source": [
        "Variables and literal values can be combined:\n"
      ],
      "id": "b593255f"
    },
    {
      "cell_type": "code",
      "metadata": {},
      "source": [
        "y = 5\n",
        "m = 2.5\n",
        "b = 10"
      ],
      "id": "749358d0",
      "execution_count": null,
      "outputs": []
    },
    {
      "cell_type": "code",
      "metadata": {},
      "source": [
        "y = m * 10 + b\n",
        "y"
      ],
      "id": "00b12b4c",
      "execution_count": null,
      "outputs": []
    },
    {
      "cell_type": "code",
      "metadata": {},
      "source": [
        "y = m * 5 + b\n",
        "y"
      ],
      "id": "5ad0a69a",
      "execution_count": null,
      "outputs": []
    },
    {
      "cell_type": "markdown",
      "metadata": {},
      "source": [
        "Expresssion can be very complex.\n",
        "\n",
        "Expressions evaluate to a value, just as single variables do. \n",
        "\n",
        "Therefore, they can be put anywhere a value is accepted.\n"
      ],
      "id": "3562938c"
    },
    {
      "cell_type": "code",
      "metadata": {},
      "source": [
        "int((y + 10) ** 8)"
      ],
      "id": "81ea7093",
      "execution_count": null,
      "outputs": []
    }
  ],
  "metadata": {
    "kernelspec": {
      "name": "python3",
      "language": "python",
      "display_name": "Python 3 (ipykernel)"
    }
  },
  "nbformat": 4,
  "nbformat_minor": 5
}