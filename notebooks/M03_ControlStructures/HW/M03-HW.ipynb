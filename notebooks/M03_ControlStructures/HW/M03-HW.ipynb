{
 "cells": [
  {
   "cell_type": "markdown",
   "id": "d31b93a7-f221-4338-b044-734458a05492",
   "metadata": {
    "tags": []
   },
   "source": [
    "# Metadata\n",
    "\n",
    "```yaml\n",
    "Course:   DS 5100\n",
    "Term:     Fall 2023\n",
    "Module:   M03 Homework\n",
    "Author:   R.C. Alvarado\n",
    "Date:     19 August 2023 (revised)\n",
    "```"
   ]
  },
  {
   "cell_type": "markdown",
   "id": "91c2bea0-57b5-4e2d-b7c3-bae818c949cc",
   "metadata": {},
   "source": [
    "# Student Info\n",
    "\n",
    "* Name:\n",
    "* Net ID:\n",
    "* URL of this file in GitHub:"
   ]
  },
  {
   "cell_type": "markdown",
   "id": "cf3260a5-5781-4529-ba47-8b22f3ab9944",
   "metadata": {
    "jp-MarkdownHeadingCollapsed": true,
    "tags": []
   },
   "source": [
    "# Instructions\n",
    "\n",
    "In your **private course repo on Rivanna**, write a Jupyter notebook running Python that performs the numbered tasks below. \n",
    "\n",
    "For each task, create a code cell to perform the task.\n",
    "\n",
    "Save your notebook in the `M03` directory as `hw03.ipynb`. \n",
    "\n",
    "Add and commit these files to your repo. \n",
    "\n",
    "Then push your commits to your repo on GitHib.\n",
    "\n",
    "Be sure to fill out the **Student Info** block above.\n",
    "\n",
    "To submit your homework, save the notebook as a PDF and upload it to GradeScope, following the instructions.\n",
    "\n",
    "**12 points**"
   ]
  },
  {
   "cell_type": "markdown",
   "id": "299969ff-8b91-4390-8168-5b5b7b21991b",
   "metadata": {},
   "source": [
    "# Task 1\n",
    "\n",
    "(6 points)\n",
    "\n",
    "Using the **for** loop and **if** statement control structures, \n",
    "write a script that generates the integers from $1$ to $100$ and does the following things:\n",
    "\n",
    "* If $3$ is a factor of the number, print `Wahoo`.\n",
    "* If $5$ is a factor of the number, print `wah!`.\n",
    "* If the number meets none of the above conditions, print nothing, not even a line break.\n",
    "* If the number meets both of the conditions, print the strings on the same line with no space between them.\n",
    "* Make sure that the line printed for each iteration in which a condition is met ends with a line break.\n",
    "* When the loop is finished, print the number of times either conidtion was met, i.e. the number of lines that were printed.\n",
    "\n",
    "Hint: You may not need to use **elif** and **else** to accomplish these tasks."
   ]
  },
  {
   "cell_type": "code",
   "execution_count": 1,
   "id": "73e6b63d-38ca-488a-9a2a-009c150d8dbd",
   "metadata": {},
   "outputs": [],
   "source": [
    "# CODE"
   ]
  },
  {
   "cell_type": "markdown",
   "id": "eefd829e-9d2d-44b1-9268-4aa605c4e40d",
   "metadata": {},
   "source": [
    "# Task 2\n",
    "\n",
    "(3 points)\n",
    "\n",
    "Rewrite the `for` loop as a `while` loop. \n",
    "\n",
    "This time, only print lines where both conditions are met. \n",
    "\n",
    "Include a final line which prints the number of times both conditions are met."
   ]
  },
  {
   "cell_type": "code",
   "execution_count": 2,
   "id": "704989f4-0d1b-457e-9179-6c080aa83f9d",
   "metadata": {},
   "outputs": [],
   "source": [
    "# CODE"
   ]
  },
  {
   "cell_type": "markdown",
   "id": "1004eae1-4cdf-46a2-9473-efe1528dfeef",
   "metadata": {},
   "source": [
    "# Task 3\n",
    "\n",
    "(3 points)\n",
    "\n",
    "Write a list comprehension that iterates through the integers from $1$ to $100$ and returns a list containing the sum of the boolean values of the two conditions described in Task 1."
   ]
  },
  {
   "cell_type": "code",
   "execution_count": 3,
   "id": "af38602c-1e6e-4de0-906a-5c1e5d780b49",
   "metadata": {},
   "outputs": [],
   "source": [
    "# CODE"
   ]
  }
 ],
 "metadata": {
  "kernelspec": {
   "display_name": "Python 3 (ipykernel)",
   "language": "python",
   "name": "python3"
  },
  "language_info": {
   "codemirror_mode": {
    "name": "ipython",
    "version": 3
   },
   "file_extension": ".py",
   "mimetype": "text/x-python",
   "name": "python",
   "nbconvert_exporter": "python",
   "pygments_lexer": "ipython3",
   "version": "3.11.3"
  },
  "widgets": {
   "application/vnd.jupyter.widget-state+json": {
    "state": {},
    "version_major": 2,
    "version_minor": 0
   }
  }
 },
 "nbformat": 4,
 "nbformat_minor": 5
}
