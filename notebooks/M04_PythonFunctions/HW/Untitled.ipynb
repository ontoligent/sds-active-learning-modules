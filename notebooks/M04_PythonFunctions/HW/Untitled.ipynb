{
 "cells": [
  {
   "cell_type": "code",
   "execution_count": 4,
   "id": "26f452e3-593e-422d-b750-d1947df9c76d",
   "metadata": {},
   "outputs": [],
   "source": [
    "my_dict = {'foo': 'bar'}"
   ]
  },
  {
   "cell_type": "code",
   "execution_count": 5,
   "id": "ce5d355f-8881-4c31-80c7-b371f7c3d581",
   "metadata": {},
   "outputs": [
    {
     "data": {
      "text/plain": [
       "'bar'"
      ]
     },
     "execution_count": 5,
     "metadata": {},
     "output_type": "execute_result"
    }
   ],
   "source": [
    "my_dict['foo']"
   ]
  },
  {
   "cell_type": "code",
   "execution_count": 6,
   "id": "c6fe45b2-7687-4fdd-aafa-98d4ab60a885",
   "metadata": {},
   "outputs": [],
   "source": [
    "data = {\n",
    "       'dsfadsf': {\n",
    "               'length': 10,\n",
    "               'song': 5\n",
    "       }\n",
    "}"
   ]
  },
  {
   "cell_type": "code",
   "execution_count": 1,
   "id": "06f83275-4bf7-4a8c-8341-24225907a3d6",
   "metadata": {},
   "outputs": [],
   "source": [
    "x = ['a', 'b', 'c']"
   ]
  },
  {
   "cell_type": "code",
   "execution_count": 2,
   "id": "ab84ff2f-66b6-4d30-889a-5bba4cde3a41",
   "metadata": {},
   "outputs": [
    {
     "data": {
      "text/plain": [
       "['a', 'b']"
      ]
     },
     "execution_count": 2,
     "metadata": {},
     "output_type": "execute_result"
    }
   ],
   "source": [
    "x[:2]"
   ]
  },
  {
   "cell_type": "code",
   "execution_count": 7,
   "id": "e5ae1626-ca57-4e59-a07e-8979b0f454c9",
   "metadata": {},
   "outputs": [
    {
     "data": {
      "text/plain": [
       "{'length': 10, 'song': 5}"
      ]
     },
     "execution_count": 7,
     "metadata": {},
     "output_type": "execute_result"
    }
   ],
   "source": [
    "data['dsfadsf']"
   ]
  },
  {
   "cell_type": "code",
   "execution_count": 8,
   "id": "3c0d2e5a-4fe1-4bc5-a8b0-42905b2f266e",
   "metadata": {},
   "outputs": [
    {
     "data": {
      "text/plain": [
       "153"
      ]
     },
     "execution_count": 8,
     "metadata": {},
     "output_type": "execute_result"
    }
   ],
   "source": [
    "30 + 23 + 45 + 55"
   ]
  },
  {
   "cell_type": "code",
   "execution_count": 10,
   "id": "aff5fc0e-f348-4342-94a5-8ace3d3328b6",
   "metadata": {},
   "outputs": [
    {
     "data": {
      "text/plain": [
       "33"
      ]
     },
     "execution_count": 10,
     "metadata": {},
     "output_type": "execute_result"
    }
   ],
   "source": [
    "153 % 60"
   ]
  },
  {
   "cell_type": "code",
   "execution_count": 22,
   "id": "1e1eacc8-2a9e-4c6f-879a-1ff181a44eba",
   "metadata": {},
   "outputs": [],
   "source": [
    "X = []\n",
    "Y = []"
   ]
  },
  {
   "cell_type": "code",
   "execution_count": 23,
   "id": "e7bf5d5b-6781-4663-b8d7-1309e2d551a1",
   "metadata": {},
   "outputs": [],
   "source": [
    "X = X + ['file.mpg']"
   ]
  },
  {
   "cell_type": "code",
   "execution_count": 24,
   "id": "a02efe1b-a201-4d9d-b608-95b883b14fc2",
   "metadata": {},
   "outputs": [
    {
     "data": {
      "text/plain": [
       "['file.mpg']"
      ]
     },
     "execution_count": 24,
     "metadata": {},
     "output_type": "execute_result"
    }
   ],
   "source": [
    "X"
   ]
  },
  {
   "cell_type": "code",
   "execution_count": 25,
   "id": "9dd92cd5-f0ef-4e2f-afa3-53705a0070ce",
   "metadata": {},
   "outputs": [],
   "source": [
    "X = X + ['fool.avi']"
   ]
  },
  {
   "cell_type": "code",
   "execution_count": 26,
   "id": "0b8cab7d-bc65-4188-adb1-d124e6555f39",
   "metadata": {},
   "outputs": [
    {
     "data": {
      "text/plain": [
       "['file.mpg', 'fool.avi']"
      ]
     },
     "execution_count": 26,
     "metadata": {},
     "output_type": "execute_result"
    }
   ],
   "source": [
    "X"
   ]
  },
  {
   "cell_type": "code",
   "execution_count": 27,
   "id": "d348d822-f2e5-4311-a343-9af8ba88cc37",
   "metadata": {},
   "outputs": [],
   "source": [
    "Y = Y + [\"sdfsdaf\"]"
   ]
  },
  {
   "cell_type": "code",
   "execution_count": 28,
   "id": "4bb63540-c01a-465f-8a62-467b59d3b630",
   "metadata": {},
   "outputs": [],
   "source": [
    "Y = Y + [\"d2ewqeq\"]"
   ]
  },
  {
   "cell_type": "code",
   "execution_count": 29,
   "id": "9719c3a9-68e2-48c8-ab1d-cc7e29dd4505",
   "metadata": {},
   "outputs": [
    {
     "data": {
      "text/plain": [
       "['sdfsdaf', 'd2ewqeq']"
      ]
     },
     "execution_count": 29,
     "metadata": {},
     "output_type": "execute_result"
    }
   ],
   "source": [
    "Y"
   ]
  },
  {
   "cell_type": "code",
   "execution_count": 30,
   "id": "b47ad18a-8ff6-4b4d-b6d7-b4a80114c461",
   "metadata": {},
   "outputs": [
    {
     "data": {
      "text/plain": [
       "['file.mpg', 'fool.avi']"
      ]
     },
     "execution_count": 30,
     "metadata": {},
     "output_type": "execute_result"
    }
   ],
   "source": [
    "X"
   ]
  },
  {
   "cell_type": "code",
   "execution_count": 31,
   "id": "9c1b37e1-6195-4717-98e4-05b1c84f0547",
   "metadata": {},
   "outputs": [
    {
     "data": {
      "text/plain": [
       "('fool.avi', 'd2ewqeq')"
      ]
     },
     "execution_count": 31,
     "metadata": {},
     "output_type": "execute_result"
    }
   ],
   "source": [
    "X[1], Y[1]"
   ]
  },
  {
   "cell_type": "code",
   "execution_count": 32,
   "id": "2cd4dc27-81c0-4604-8b76-bd1846257f94",
   "metadata": {},
   "outputs": [
    {
     "data": {
      "text/plain": [
       "('file.mpg', 'sdfsdaf')"
      ]
     },
     "execution_count": 32,
     "metadata": {},
     "output_type": "execute_result"
    }
   ],
   "source": [
    "X[0], Y[0]"
   ]
  }
 ],
 "metadata": {
  "kernelspec": {
   "display_name": "Python 3 (ipykernel)",
   "language": "python",
   "name": "python3"
  },
  "language_info": {
   "codemirror_mode": {
    "name": "ipython",
    "version": 3
   },
   "file_extension": ".py",
   "mimetype": "text/x-python",
   "name": "python",
   "nbconvert_exporter": "python",
   "pygments_lexer": "ipython3",
   "version": "3.8.16"
  },
  "widgets": {
   "application/vnd.jupyter.widget-state+json": {
    "state": {},
    "version_major": 2,
    "version_minor": 0
   }
  }
 },
 "nbformat": 4,
 "nbformat_minor": 5
}
